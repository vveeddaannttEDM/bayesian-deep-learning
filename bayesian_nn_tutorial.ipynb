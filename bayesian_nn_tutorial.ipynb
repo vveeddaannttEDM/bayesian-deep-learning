{
 "cells": [
  {
   "cell_type": "markdown",
   "id": "1dd0aeaf",
   "metadata": {},
   "source": [
    "# Bayesian Neural Network with Variational Inference\n",
    "### Example: Boston Housing Dataset (Regression)"
   ]
  },
  {
   "cell_type": "code",
   "execution_count": null,
   "id": "2d8d3299",
   "metadata": {},
   "outputs": [],
   "source": [
    "import torch\n",
    "import torch.optim as optim\n",
    "from datasets.data_loader import load_dataset\n",
    "from models.variational_inference import BayesianNN, elbo_loss\n",
    "import matplotlib.pyplot as plt"
   ]
  },
  {
   "cell_type": "code",
   "execution_count": null,
   "id": "fb93de20",
   "metadata": {},
   "outputs": [],
   "source": [
    "# Load dataset\n",
    "train_loader, test_loader = load_dataset(\n",
    "    csv_path=\"datasets/sample_data.csv\",\n",
    "    target_column=\"target\",\n",
    "    test_size=0.2,\n",
    "    batch_size=32\n",
    ")"
   ]
  },
  {
   "cell_type": "code",
   "execution_count": null,
   "id": "4b7255df",
   "metadata": {},
   "outputs": [],
   "source": [
    "# Define model and optimizer\n",
    "input_dim = next(iter(train_loader))[0].shape[1]\n",
    "model = BayesianNN(input_dim=input_dim, hidden_dim=64, output_dim=1)\n",
    "optimizer = optim.Adam(model.parameters(), lr=0.01)"
   ]
  },
  {
   "cell_type": "code",
   "execution_count": null,
   "id": "39d737de",
   "metadata": {},
   "outputs": [],
   "source": [
    "# Training loop\n",
    "epochs = 100\n",
    "train_losses = []\n",
    "\n",
    "for epoch in range(epochs):\n",
    "    model.train()\n",
    "    epoch_loss = 0\n",
    "\n",
    "    for x_batch, y_batch in train_loader:\n",
    "        optimizer.zero_grad()\n",
    "        preds = model(x_batch)\n",
    "        kl = model.kl_divergence()\n",
    "        loss = elbo_loss(preds, y_batch, kl, beta=0.1)\n",
    "        loss.backward()\n",
    "        optimizer.step()\n",
    "        epoch_loss += loss.item()\n",
    "\n",
    "    avg_loss = epoch_loss / len(train_loader)\n",
    "    train_losses.append(avg_loss)\n",
    "\n",
    "    if (epoch + 1) % 10 == 0:\n",
    "        print(f\"Epoch {epoch+1}/{epochs} - Loss: {avg_loss:.4f}\")"
   ]
  },
  {
   "cell_type": "code",
   "execution_count": null,
   "id": "c1f6cf57",
   "metadata": {},
   "outputs": [],
   "source": [
    "# Plot training loss\n",
    "plt.plot(train_losses)\n",
    "plt.xlabel(\"Epoch\")\n",
    "plt.ylabel(\"ELBO Loss\")\n",
    "plt.title(\"Training Loss (Bayesian NN)\")\n",
    "plt.show()"
   ]
  }
 ],
 "metadata": {},
 "nbformat": 4,
 "nbformat_minor": 5
}
